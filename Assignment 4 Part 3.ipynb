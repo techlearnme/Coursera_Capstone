{
    "cells": [
        {
            "cell_type": "markdown",
            "metadata": {
                "collapsed": true
            },
            "source": "# The Battle of Neighborhood\n"
        },
        {
            "cell_type": "markdown",
            "metadata": {},
            "source": "<b>Introduction</b>\n\n1.This project is to take a glimpse at different neighborhoods of Providence, RI and Hartford, CT. Both cities are capital cities of their states and are major cities between New York City and Boston in East Coast.\n\n2. Travellers from inside and outside of New England area who want to decide where to visit and business owners may be interested in the project.\n"
        },
        {
            "cell_type": "markdown",
            "metadata": {},
            "source": "<b>Data</b>\n\nI organized two data sets of zipcode and neighborhoods with latitude and longtude for each city from multiple online sources\n\n"
        },
        {
            "cell_type": "markdown",
            "metadata": {},
            "source": "<b>Methodology</b>\n\n 1. Basic Skills from week 3 lab\n2. Majorly relied on Foursquare API to retrieve all venues of each neighborhoods, then group by each neighborhoods and to count how many venues before filter top 10 most common venue types of each neighborhoods\n\n"
        },
        {
            "cell_type": "markdown",
            "metadata": {},
            "source": "<b>Results</b>\n\n1. Providence has more venues than Hartford (512 vs 460)\n2. Federal Hill has the most venues in ProvidenceDowntown has the most venues in Hartford\n3. Most of venues in Federal Hill are restaurants, bars\n4. Venues in Downtown Hartford are more diverse includes: banks, concert hall, gyms\u2026\n5. Bars, Restaurants, Bakeries, and Diners are very common in Providence\n6. Hartford is more about commercial\n"
        },
        {
            "cell_type": "markdown",
            "metadata": {},
            "source": "<b>Conclusion</b>\n\n1. For travelers:\nProvidence may more suitable to spend a good amount time of enjoy the local food. \n\nHartford has less food but more commercial.\n\n2. For  business owners:\nProvidence is good place to open small business related to food and travel industry.\n\nHartford is better place to involve in insurance industry\n\n"
        },
        {
            "cell_type": "code",
            "execution_count": null,
            "metadata": {},
            "outputs": [],
            "source": ""
        }
    ],
    "metadata": {
        "kernelspec": {
            "display_name": "Python 3.6",
            "language": "python",
            "name": "python3"
        },
        "language_info": {
            "codemirror_mode": {
                "name": "ipython",
                "version": 3
            },
            "file_extension": ".py",
            "mimetype": "text/x-python",
            "name": "python",
            "nbconvert_exporter": "python",
            "pygments_lexer": "ipython3",
            "version": "3.6.9"
        }
    },
    "nbformat": 4,
    "nbformat_minor": 1
}